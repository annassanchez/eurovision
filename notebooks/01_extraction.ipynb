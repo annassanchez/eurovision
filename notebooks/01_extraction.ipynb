{
 "cells": [
  {
   "cell_type": "code",
   "execution_count": 1,
   "metadata": {},
   "outputs": [],
   "source": [
    "import pandas as pd\n",
    "import sys\n",
    "sys.path.append(\"../\")\n",
    "import src.scraper as scraper\n",
    "sys.path.append(\"../\")\n",
    "import src.scraper2 as scraper2\n",
    "import tqdm\n",
    "from datetime import date\n",
    "import json\n",
    "import pickle"
   ]
  },
  {
   "cell_type": "code",
   "execution_count": null,
   "metadata": {},
   "outputs": [],
   "source": [
    "scraper2.seleniumEurovisionArchives()"
   ]
  },
  {
   "cell_type": "code",
   "execution_count": null,
   "metadata": {},
   "outputs": [],
   "source": [
    "scraper2.finalEurovision()"
   ]
  },
  {
   "cell_type": "code",
   "execution_count": 2,
   "metadata": {},
   "outputs": [
    {
     "name": "stdout",
     "output_type": "stream",
     "text": [
      "lo intento\n",
      "turin-2022\n",
      "lo intento\n",
      "rotterdam-2021\n",
      "lo intento\n",
      "tel-aviv-2019\n",
      "lo intento\n",
      "lisbon-2018\n",
      "lo intento\n",
      "kyiv-2017\n",
      "lo intento\n",
      "stockholm-2016\n",
      "lo intento\n",
      "vienna-2015\n",
      "lo intento\n",
      "copenhagen-2014\n",
      "lo intento\n",
      "malmo-2013\n",
      "lo intento\n",
      "baku-2012\n",
      "lo intento\n",
      "dusseldorf-2011\n",
      "lo intento\n",
      "oslo-2010\n",
      "lo intento\n",
      "moscow-2009\n",
      "lo intento\n",
      "belgrade-2008\n",
      "lo intento\n",
      "helsinki-2007\n",
      "lo intento\n",
      "athens-2006\n",
      "lo intento\n",
      "kyiv-2005\n",
      "lo intento\n",
      "istanbul-2004\n",
      "done with this page\n"
     ]
    }
   ],
   "source": [
    "test = scraper2.semifinalEurovision()"
   ]
  },
  {
   "cell_type": "code",
   "execution_count": null,
   "metadata": {},
   "outputs": [],
   "source": [
    "with open('../data/semi-final.pickle', 'rb') as base_data:\n",
    "    base_data = pickle.load(base_data)"
   ]
  },
  {
   "cell_type": "code",
   "execution_count": null,
   "metadata": {},
   "outputs": [],
   "source": [
    "with open('../data/archives.pickle', 'rb') as base_data:\n",
    "    base_data = pickle.load(base_data)"
   ]
  }
 ],
 "metadata": {
  "kernelspec": {
   "display_name": "iron2",
   "language": "python",
   "name": "python3"
  },
  "language_info": {
   "codemirror_mode": {
    "name": "ipython",
    "version": 3
   },
   "file_extension": ".py",
   "mimetype": "text/x-python",
   "name": "python",
   "nbconvert_exporter": "python",
   "pygments_lexer": "ipython3",
   "version": "3.9.16"
  },
  "orig_nbformat": 4
 },
 "nbformat": 4,
 "nbformat_minor": 2
}
