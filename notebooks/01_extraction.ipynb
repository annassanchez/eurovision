{
 "cells": [
  {
   "cell_type": "code",
   "execution_count": 1,
   "metadata": {},
   "outputs": [],
   "source": [
    "import pandas as pd\n",
    "import sys\n",
    "sys.path.append(\"../\")\n",
    "import src.scraper as scraper\n",
    "sys.path.append(\"../\")\n",
    "import src.scraper2 as scraper2\n",
    "import tqdm\n",
    "from datetime import date\n",
    "import json"
   ]
  },
  {
   "cell_type": "code",
   "execution_count": 2,
   "metadata": {},
   "outputs": [],
   "source": [
    "url='https://eurovision.tv/history'"
   ]
  },
  {
   "cell_type": "code",
   "execution_count": 3,
   "metadata": {},
   "outputs": [
    {
     "name": "stdout",
     "output_type": "stream",
     "text": [
      "lo intento\n",
      "lo intento\n",
      "lo intento\n",
      "lo intento\n",
      "lo intento\n",
      "lo intento\n",
      "lo intento\n",
      "lo intento\n",
      "lo intento\n",
      "lo intento\n",
      "lo intento\n",
      "lo intento\n",
      "lo intento\n",
      "lo intento\n",
      "done with this page\n",
      "lo intento\n",
      "lo intento\n",
      "lo intento\n",
      "lo intento\n",
      "lo intento\n",
      "lo intento\n",
      "lo intento\n",
      "lo intento\n",
      "lo intento\n",
      "lo intento\n",
      "lo intento\n",
      "lo intento\n",
      "lo intento\n",
      "lo intento\n",
      "done with this page\n",
      "lo intento\n",
      "lo intento\n",
      "lo intento\n",
      "lo intento\n",
      "lo intento\n",
      "lo intento\n",
      "lo intento\n",
      "lo intento\n",
      "lo intento\n",
      "lo intento\n"
     ]
    }
   ],
   "source": [
    "hola = scraper2.seleniumEurovisionArchives(url)"
   ]
  },
  {
   "cell_type": "code",
   "execution_count": null,
   "metadata": {},
   "outputs": [],
   "source": [
    "pd.DataFrame(hola)"
   ]
  },
  {
   "attachments": {},
   "cell_type": "markdown",
   "metadata": {},
   "source": [
    "generador urls"
   ]
  }
 ],
 "metadata": {
  "kernelspec": {
   "display_name": "iron2",
   "language": "python",
   "name": "python3"
  },
  "language_info": {
   "codemirror_mode": {
    "name": "ipython",
    "version": 3
   },
   "file_extension": ".py",
   "mimetype": "text/x-python",
   "name": "python",
   "nbconvert_exporter": "python",
   "pygments_lexer": "ipython3",
   "version": "3.9.16"
  },
  "orig_nbformat": 4
 },
 "nbformat": 4,
 "nbformat_minor": 2
}
